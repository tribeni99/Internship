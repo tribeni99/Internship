{
 "cells": [
  {
   "cell_type": "code",
   "execution_count": 4,
   "id": "f31b9b8f",
   "metadata": {},
   "outputs": [
    {
     "name": "stdout",
     "output_type": "stream",
     "text": [
      "The factorial of 7 is 5040\n"
     ]
    }
   ],
   "source": [
    "# Finding Factorial of a number using python \n",
    "num=7\n",
    "factorial=1\n",
    "if num<0:\n",
    "    print(\"Sorry,factorial does not exist for negative numbers\")\n",
    "elif num==0:    \n",
    "        print(\"The factorial of 0 is 1\")\n",
    "else:        \n",
    "        for i in range(1,num+1):\n",
    "            factorial= factorial*i\n",
    "        print(\"The factorial of\",num,\"is\",factorial)\n",
    "        "
   ]
  },
  {
   "cell_type": "code",
   "execution_count": 5,
   "id": "b9c48245",
   "metadata": {},
   "outputs": [
    {
     "name": "stdout",
     "output_type": "stream",
     "text": [
      "29 is a prime number\n"
     ]
    }
   ],
   "source": [
    "#program to check whether a number is prime or composite\n",
    "num=29\n",
    "flag= False\n",
    "if num>1:\n",
    "    for i in range(2,num):\n",
    "        if(num % i)==0:\n",
    "            flag = True\n",
    "            break\n",
    "if flag:\n",
    "    print(num,\"is not a prime number\")\n",
    "else:\n",
    "    print(num,\"is a prime number\")\n",
    "\n"
   ]
  },
  {
   "cell_type": "code",
   "execution_count": 6,
   "id": "859c5536",
   "metadata": {},
   "outputs": [
    {
     "name": "stdout",
     "output_type": "stream",
     "text": [
      "The string is a palindrome.\n"
     ]
    }
   ],
   "source": [
    "#program to check whether a given string is palindrome or not\n",
    "my_str = 'aIbohPhoBiA'\n",
    "my_str = my_str.casefold()\n",
    "rev_str = reversed(my_str)\n",
    "if list(my_str) == list(rev_str):\n",
    "    print(\"The string is a palindrome.\")\n",
    "else:\n",
    "    print(\"The string is not a palindrome.\")"
   ]
  },
  {
   "cell_type": "code",
   "execution_count": 7,
   "id": "bc496cb0",
   "metadata": {},
   "outputs": [
    {
     "name": "stdout",
     "output_type": "stream",
     "text": [
      "Enter the string:code for coding to coders\n",
      "Please enter the char to find frequency of the character\n",
      "o\n",
      "The frequency of the o in the string is: 5\n"
     ]
    }
   ],
   "source": [
    "#Python program to count the frequency of each of the character present in a given string\n",
    "string=input(\"Enter the string:\")\n",
    "char=input(\"Please enter the char to find frequency of the character\\n\")\n",
    "count=0\n",
    "for i in range(len(string)):\n",
    "    if(string[i]==char):\n",
    "        count=count+1\n",
    "print(\"The frequency of the\",char,\"in the string is:\",count)        "
   ]
  },
  {
   "cell_type": "code",
   "execution_count": null,
   "id": "8f1ffc74",
   "metadata": {},
   "outputs": [],
   "source": []
  }
 ],
 "metadata": {
  "kernelspec": {
   "display_name": "Python 3",
   "language": "python",
   "name": "python3"
  },
  "language_info": {
   "codemirror_mode": {
    "name": "ipython",
    "version": 3
   },
   "file_extension": ".py",
   "mimetype": "text/x-python",
   "name": "python",
   "nbconvert_exporter": "python",
   "pygments_lexer": "ipython3",
   "version": "3.8.8"
  }
 },
 "nbformat": 4,
 "nbformat_minor": 5
}
